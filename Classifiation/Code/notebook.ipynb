{
 "cells": [
  {
   "cell_type": "code",
   "execution_count": 29,
   "metadata": {},
   "outputs": [
    {
     "name": "stdout",
     "output_type": "stream",
     "text": [
      "lookup {0: 0, 1: 1}\n"
     ]
    }
   ],
   "source": [
    "# Example of Calculating and Displaying a Pretty Confusion Matrix\n",
    "\n",
    "# calculate a confusion matrix\n",
    "def confusion_matrix(actual, predicted):\n",
    "    unique = set(actual)\n",
    "    matrix = [list() for x in range(len(unique))]\n",
    "    for i in range(len(unique)):\n",
    "        matrix[i] = [0 for x in range(len(unique))]\n",
    "    lookup = dict()\n",
    "    for i, value in enumerate(unique):\n",
    "        lookup[value] = i\n",
    "    print('lookup',lookup)\n",
    "    for i in range(len(actual)):\n",
    "        x = lookup[actual[i]]\n",
    "        y = lookup[predicted[i]]\n",
    "    \n",
    "        matrix[x][y] += 1\n",
    "    return unique, matrix\n",
    "\n",
    "# Test confusion matrix with integers\n",
    "actual =    [0,0,0,0,0,1,1,1,1,1]\n",
    "predicted = [0,1,1,0,0,1,0,1,1,1]\n",
    "unique, matrix = confusion_matrix(actual, predicted)\n"
   ]
  },
  {
   "cell_type": "code",
   "execution_count": 42,
   "metadata": {},
   "outputs": [],
   "source": [
    "TN=matrix[0][0]\n",
    "FP=matrix[0][1]\n",
    "FN=matrix[1][0]\n",
    "TP=matrix[1][1]\n",
    "u=[str(x) for x in unique]"
   ]
  },
  {
   "cell_type": "code",
   "execution_count": 43,
   "metadata": {},
   "outputs": [
    {
     "name": "stdout",
     "output_type": "stream",
     "text": [
      "+----------+-------------+-------------+\n",
      "|          | Predicted:0 | Predicted:1 |\n",
      "+----------+-------------+-------------+\n",
      "| Actual:0 |      3      |      2      |\n",
      "| Actual:1 |      1      |      4      |\n",
      "+----------+-------------+-------------+\n"
     ]
    }
   ],
   "source": [
    "from prettytable import PrettyTable\n",
    "\n",
    "t = PrettyTable([' ', 'Predicted:'+u[0],'Predicted:'+u[1]])\n",
    "\n",
    "t.add_row(['Actual:'+u[0],TN,FP])\n",
    "\n",
    "t.add_row(['Actual:'+u[1],FN,TP])\n",
    "print(t)"
   ]
  },
  {
   "cell_type": "code",
   "execution_count": 24,
   "metadata": {},
   "outputs": [
    {
     "name": "stdout",
     "output_type": "stream",
     "text": [
      "Confusion matrix : \n",
      "+----------+-------------+-------------+\n",
      "|          | Predicted:1 | Predicted:0 |\n",
      "+----------+-------------+-------------+\n",
      "| Actual:1 |      TP     |      FN     |\n",
      "| Actual:0 |      FP     |      TN     |\n",
      "+----------+-------------+-------------+\n"
     ]
    }
   ],
   "source": [
    "print(\"Confusion matrix: \")\n",
    "te = PrettyTable([' ', 'Predicted:1','Predicted:0'])\n",
    "\n",
    "te.add_row(['Actual:1','TP','FN'])\n",
    "te.add_row(['Actual:0','FP','TN'])\n",
    "print(te)"
   ]
  },
  {
   "cell_type": "code",
   "execution_count": 44,
   "metadata": {},
   "outputs": [
    {
     "name": "stdout",
     "output_type": "stream",
     "text": [
      "Classification accuracy:\n",
      "0.7\n"
     ]
    }
   ],
   "source": [
    "print(\"Classification accuracy:\")\n",
    "print((TP + TN) / float(TP + TN + FP + FN))"
   ]
  },
  {
   "cell_type": "code",
   "execution_count": null,
   "metadata": {},
   "outputs": [],
   "source": [
    "def accur"
   ]
  }
 ],
 "metadata": {
  "kernelspec": {
   "display_name": "Python 3",
   "language": "python",
   "name": "python3"
  },
  "language_info": {
   "codemirror_mode": {
    "name": "ipython",
    "version": 3
   },
   "file_extension": ".py",
   "mimetype": "text/x-python",
   "name": "python",
   "nbconvert_exporter": "python",
   "pygments_lexer": "ipython3",
   "version": "3.6.5"
  }
 },
 "nbformat": 4,
 "nbformat_minor": 2
}
