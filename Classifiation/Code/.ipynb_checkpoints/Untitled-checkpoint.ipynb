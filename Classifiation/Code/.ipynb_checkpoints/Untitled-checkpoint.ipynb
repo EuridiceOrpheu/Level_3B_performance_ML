{
 "cells": [
  {
   "cell_type": "code",
   "execution_count": 1,
   "metadata": {},
   "outputs": [
    {
     "name": "stdout",
     "output_type": "stream",
     "text": [
      "(P)0 1\n",
      "(A)---\n",
      "0| 3 2\n",
      "1| 1 4\n"
     ]
    }
   ],
   "source": [
    "# Example of Calculating and Displaying a Pretty Confusion Matrix\n",
    "\n",
    "# calculate a confusion matrix\n",
    "def confusion_matrix(actual, predicted):\n",
    "\tunique = set(actual)\n",
    "\tmatrix = [list() for x in range(len(unique))]\n",
    "\tfor i in range(len(unique)):\n",
    "\t\tmatrix[i] = [0 for x in range(len(unique))]\n",
    "\tlookup = dict()\n",
    "\tfor i, value in enumerate(unique):\n",
    "\t\tlookup[value] = i\n",
    "\tfor i in range(len(actual)):\n",
    "\t\tx = lookup[actual[i]]\n",
    "\t\ty = lookup[predicted[i]]\n",
    "\t\tmatrix[x][y] += 1\n",
    "\treturn unique, matrix\n",
    "\n",
    "# pretty print a confusion matrix\n",
    "def print_confusion_matrix(unique, matrix):\n",
    "\tprint('(P)' + ' '.join(str(x) for x in unique))\n",
    "\tprint('(A)---')\n",
    "\tfor i, x in enumerate(unique):\n",
    "\t\tprint(\"%s| %s\" % (x, ' '.join(str(x) for x in matrix[i])))\n",
    "\n",
    "# Test confusion matrix with integers\n",
    "actual = [0,0,0,0,0,1,1,1,1,1]\n",
    "predicted = [0,1,1,0,0,1,0,1,1,1]\n",
    "unique, matrix = confusion_matrix(actual, predicted)\n",
    "#print_confusion_matrix(unique, matrix)\n",
    "from prettytable import PrettyTable\n",
    "\n",
    "t = PrettyTable(['n', 'Predicted:0','Predicted:1'])\n",
    "\n",
    "t.add_row(['Actual:0',matrix[0][0],matrix[0][1]])\n",
    "\n",
    "t.add_row(['Actual:1', matrix[1][0],matrix[1][1]])\n",
    "print(t)\n",
    "\n"
   ]
  },
  {
   "cell_type": "code",
   "execution_count": 14,
   "metadata": {},
   "outputs": [
    {
     "name": "stdout",
     "output_type": "stream",
     "text": [
      "+----------+-------------+-------------+\n",
      "|    n     | Predicted:0 | Predicted:1 |\n",
      "+----------+-------------+-------------+\n",
      "| Actual:0 |      3      |      2      |\n",
      "| Actual:1 |      1      |      4      |\n",
      "+----------+-------------+-------------+\n"
     ]
    }
   ],
   "source": [
    "from prettytable import PrettyTable\n",
    "t = PrettyTable(['n', 'Predicted:0','Predicted:1'])\n",
    "\n",
    "t.add_row(['Actual:0',matrix[0][0],matrix[0][1]])\n",
    "\n",
    "t.add_row(['Actual:1', matrix[1][0],matrix[1][1]])\n",
    "print(t)"
   ]
  },
  {
   "cell_type": "code",
   "execution_count": null,
   "metadata": {},
   "outputs": [],
   "source": []
  }
 ],
 "metadata": {
  "kernelspec": {
   "display_name": "Python 3",
   "language": "python",
   "name": "python3"
  },
  "language_info": {
   "codemirror_mode": {
    "name": "ipython",
    "version": 3
   },
   "file_extension": ".py",
   "mimetype": "text/x-python",
   "name": "python",
   "nbconvert_exporter": "python",
   "pygments_lexer": "ipython3",
   "version": "3.6.5"
  }
 },
 "nbformat": 4,
 "nbformat_minor": 2
}
